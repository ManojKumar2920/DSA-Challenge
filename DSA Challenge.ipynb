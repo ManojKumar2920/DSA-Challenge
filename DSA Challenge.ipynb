{
 "cells": [
  {
   "cell_type": "markdown",
   "id": "4008856d-c94d-4a06-8972-613ec7cb3138",
   "metadata": {},
   "source": [
    "## DSA"
   ]
  },
  {
   "cell_type": "markdown",
   "id": "01b32a11-be8b-468d-b07b-6bba07c3eaf5",
   "metadata": {},
   "source": [
    "**What is Data Structures ?**"
   ]
  },
  {
   "cell_type": "markdown",
   "id": "ee501e12-1fdd-4bcc-a8fe-fe3c18b93de5",
   "metadata": {},
   "source": [
    "Data Structures is a way of organising data so that it can be used effectively!"
   ]
  },
  {
   "cell_type": "markdown",
   "id": "161d1743-0df7-4561-b7c1-46084e408a6c",
   "metadata": {},
   "source": [
    "**Why Data Structures?**"
   ]
  },
  {
   "cell_type": "markdown",
   "id": "344642a7-9bae-421f-85ab-f07a6a747170",
   "metadata": {},
   "source": [
    "-It help to manage and organise the data.<br>-It make code cleaner and easier.<br>-It used to create powerful algorithms."
   ]
  },
  {
   "cell_type": "markdown",
   "id": "ff23fc75-3570-4d9b-8a68-fb0412e93300",
   "metadata": {},
   "source": [
    "**Complexity Analysis**"
   ]
  },
  {
   "cell_type": "markdown",
   "id": "86122400-ca81-4bae-bf43-b8e1953cd5fd",
   "metadata": {},
   "source": [
    "The Time and Space of algorithm is need to be better"
   ]
  },
  {
   "cell_type": "markdown",
   "id": "df09fb3d-0c91-4f3f-a545-ef361abdaa50",
   "metadata": {},
   "source": [
    "**Big O Notation**"
   ]
  },
  {
   "cell_type": "markdown",
   "id": "3625bb80-cc66-48e7-9469-6db68c9210f2",
   "metadata": {},
   "source": [
    "It cares about the worst case. If the algorithm performance well in worst case, it will perform well in all cases"
   ]
  },
  {
   "cell_type": "markdown",
   "id": "6585889f-7346-4ad6-a4ba-b2eabcf0a5f8",
   "metadata": {},
   "source": [
    "eg:"
   ]
  },
  {
   "cell_type": "markdown",
   "id": "6548675c-c9b4-4fc8-99e9-96460daf687a",
   "metadata": {},
   "source": [
    "**Constant Time**"
   ]
  },
  {
   "cell_type": "code",
   "execution_count": 6,
   "id": "53bfb0f4-4647-4c35-aa8f-29b912a8c618",
   "metadata": {},
   "outputs": [
    {
     "name": "stdout",
     "output_type": "stream",
     "text": [
      "1\n",
      "2\n",
      "3\n",
      "4\n",
      "5\n",
      "6\n",
      "7\n",
      "8\n",
      "9\n",
      "10\n"
     ]
    }
   ],
   "source": [
    "i = 0\n",
    "while i<10:\n",
    "    i=i+1\n",
    "    print(i)"
   ]
  },
  {
   "cell_type": "markdown",
   "id": "02019ead-afdb-44ad-87af-f20cfa397f7c",
   "metadata": {},
   "source": [
    "**Big O Notation of above is**<br>When your algorithm is not dependent on the input size n, it is said to have a constant time complexity with order O(1)."
   ]
  },
  {
   "cell_type": "markdown",
   "id": "78c28e70-76dd-4f0a-93c4-d8f129f3234f",
   "metadata": {},
   "source": [
    "**Linear Time**"
   ]
  },
  {
   "cell_type": "code",
   "execution_count": 11,
   "id": "0c76d6a5-e71f-4960-a9c6-97a5aae637e0",
   "metadata": {
    "scrolled": true
   },
   "outputs": [
    {
     "name": "stdin",
     "output_type": "stream",
     "text": [
      "Enter the Value of n: 5\n"
     ]
    },
    {
     "name": "stdout",
     "output_type": "stream",
     "text": [
      "1\n",
      "2\n",
      "3\n",
      "4\n",
      "5\n"
     ]
    }
   ],
   "source": [
    "n = int(input(\"Enter the Value of n:\"))\n",
    "i=0\n",
    "while i < n:\n",
    "    i=i+1\n",
    "    print(i)"
   ]
  },
  {
   "cell_type": "code",
   "execution_count": 10,
   "id": "a3f17c37-0bbf-42ab-9e02-45a8cbe5b57b",
   "metadata": {},
   "outputs": [
    {
     "name": "stdin",
     "output_type": "stream",
     "text": [
      "Enter the Value of n: 5\n"
     ]
    },
    {
     "name": "stdout",
     "output_type": "stream",
     "text": [
      "3\n",
      "6\n"
     ]
    }
   ],
   "source": [
    "n = int(input(\"Enter the Value of n:\"))\n",
    "i=0\n",
    "while i < n:\n",
    "    i=i+3\n",
    "    print(i)"
   ]
  },
  {
   "cell_type": "markdown",
   "id": "9b34bbd3-269d-44f7-af10-19c8746fbb16",
   "metadata": {},
   "source": [
    "**Big O Notation of above is**<br>When the function involves checking all the values in input data, with this order O(n)<br>f(n) = n<br>O(f(n)) = O(n)"
   ]
  },
  {
   "cell_type": "markdown",
   "id": "cddfc662-5f0a-494d-8fa2-1a77b1a8fe21",
   "metadata": {},
   "source": [
    "**Time Complextity of Big O Notations**\n",
    "\n",
    "<img src=\"Time complexity.png\" alt=\"Alt text\" width=\"300\"/>\n"
   ]
  },
  {
   "cell_type": "markdown",
   "id": "dfcbcb95-a3fd-41c8-8a43-e35a200a19dc",
   "metadata": {},
   "source": [
    "Best Time Complexity is O(1)<br>Worst is O(n!)"
   ]
  },
  {
   "cell_type": "markdown",
   "id": "9b0fd267-6360-4eb7-9db0-6415585f0876",
   "metadata": {},
   "source": [
    "\r\n",
    "O(2n)\r\n",
    "\r\n",
    "1024\r\n",
    "\r\n",
    "10 msec\r\n",
    "\r\n",
    "factorial\r\n",
    "\r\n",
    "O(n!)\r\n",
    "\r\n",
    "10!\r\n",
    "\r\n",
    "3.6288 sec"
   ]
  },
  {
   "cell_type": "code",
   "execution_count": 13,
   "id": "65cf40c8-4231-4a70-a3d4-b39773c7494c",
   "metadata": {},
   "outputs": [
    {
     "name": "stdout",
     "output_type": "stream",
     "text": [
      "25 50\n"
     ]
    }
   ],
   "source": [
    "# Python program to findtime complexity for single for loop\n",
    "a = 0\n",
    "b = 0\n",
    "# declare size\n",
    "N = 5\n",
    "M = 5\n",
    "# This loop runs for N time\n",
    "for i in range(N):\n",
    "\ta = a + 5\n",
    "# This loop runs for M time\n",
    "for i in range(M):\n",
    "\tb = b + 10\n",
    "# print value of a and b\n",
    "print(a, end=\" \")\n",
    "print(b)"
   ]
  },
  {
   "cell_type": "markdown",
   "id": "fe2f3b64-4cf0-46a7-ae49-1d61c89c9058",
   "metadata": {},
   "source": [
    "The time compleity of above is O(1), Constant time. Because the first loop runs N time and second runs M time, The operations inside the loop (a = a + 5) take constant time, O(1).The operations inside the loop (b = b + 10) take constant time, O(1). So it have O(N+M) time compleity."
   ]
  },
  {
   "cell_type": "code",
   "execution_count": null,
   "id": "6731821a-c5b9-4a39-a02d-dd760f3c59b9",
   "metadata": {},
   "outputs": [],
   "source": []
  },
  {
   "cell_type": "code",
   "execution_count": null,
   "id": "dd01e3be-0674-47e2-a796-6ec599589f99",
   "metadata": {},
   "outputs": [],
   "source": []
  }
 ],
 "metadata": {
  "kernelspec": {
   "display_name": "Python 3 (ipykernel)",
   "language": "python",
   "name": "python3"
  },
  "language_info": {
   "codemirror_mode": {
    "name": "ipython",
    "version": 3
   },
   "file_extension": ".py",
   "mimetype": "text/x-python",
   "name": "python",
   "nbconvert_exporter": "python",
   "pygments_lexer": "ipython3",
   "version": "3.12.0"
  }
 },
 "nbformat": 4,
 "nbformat_minor": 5
}
